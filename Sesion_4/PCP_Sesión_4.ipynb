{
  "nbformat": 4,
  "nbformat_minor": 0,
  "metadata": {
    "kernelspec": {
      "display_name": "Python 3",
      "language": "python",
      "name": "python3"
    },
    "language_info": {
      "codemirror_mode": {
        "name": "ipython",
        "version": 3
      },
      "file_extension": ".py",
      "mimetype": "text/x-python",
      "name": "python",
      "nbconvert_exporter": "python",
      "pygments_lexer": "ipython3",
      "version": "3.6.8"
    },
    "colab": {
      "name": "PCP_Sesión_4.ipynb",
      "provenance": [],
      "collapsed_sections": [],
      "toc_visible": true,
      "include_colab_link": true
    }
  },
  "cells": [
    {
      "cell_type": "markdown",
      "metadata": {
        "id": "view-in-github",
        "colab_type": "text"
      },
      "source": [
        "<a href=\"https://colab.research.google.com/github/Yes197/FisicaComputacional/blob/main/PCP_Sesi%C3%B3n_4.ipynb\" target=\"_parent\"><img src=\"https://colab.research.google.com/assets/colab-badge.svg\" alt=\"Open In Colab\"/></a>"
      ]
    },
    {
      "cell_type": "markdown",
      "metadata": {
        "_uuid": "1752ce061957fd1ce93d2e4db9494b7b29da7935",
        "id": "4skdndoa-7GI"
      },
      "source": [
        "<center>\n",
        "\n",
        "\n",
        "<img src=\"https://habrastorage.org/webt/jq/gc/r5/jqgcr5azmatev6zvgufn8xftehy.png\">\n",
        "    \n",
        "#  **II Escuela de Verano en Física Computacional**\n",
        "\n",
        "##Autores: [Neisser Pino R.](https://scholar.google.com.pe/citations?user=pAB28NEAAAAJ&hl=es), [Ricardo Quispe M.](https://github.com/RcrdPhysics)\n",
        "##Institución: Universidad Nacional Mayor de San Marcos\n",
        "##Correo: ricardo.quispe5@unmsm.edu.pe\n",
        "    \n",
        "Este material está sujeto a los términos y condiciones de la licencia [Creative Commons CC BY-NC-SA 4.0](https://creativecommons.org/licenses/by-nc-sa/4.0/). Se permite el uso gratuito para cualquier propósito no comercial.\n",
        "\n",
        "*También puede consultar la última versión de este notebook en nuestro [repositorio](https://github.com/PCPUNMSM) y los videos de clase [en nuestro canal de Youtube](https://www.youtube.com/channel/UCze8vzQLcplutz0nWDNjFCA).*\n",
        "    "
      ]
    },
    {
      "cell_type": "markdown",
      "metadata": {
        "_uuid": "9b690f2c8129ad9445c544337375b93246c26668",
        "id": "Vm9O4SUd-7GJ"
      },
      "source": [
        "# <center> Sesión 4. Integración numérica\n",
        "<p align=\"center\">\n",
        "  <img src=\"https://lh3.googleusercontent.com/proxy/JwzJoz0EH9UHrtheoWhhyR9IvWEck7Y-x_n4djusMYZhndykgaobo7GxQoGCtYUVIMMI_zOwtF8U6_989ph9LtoHyVxIG3NF8wgGCqeGNn7ewdy2\"  width=75% />\n",
        "</p>\n",
        "\n",
        "## Outline\n",
        "1. Punto Medio\n",
        "2. Cuadratura\n",
        "3. Regla del Trapecio\n",
        "4. Regla de Simpson\n",
        "5. Integrando con SciPy\n",
        "6. Problema físico"
      ]
    },
    {
      "cell_type": "markdown",
      "metadata": {
        "id": "8rQTukW_eafx"
      },
      "source": [
        "A menudo es necesario evaluar la integra definida de una función que no tiene una antiderivada explícita, o cuya antiderivada no es fácil de obtener. El método básico con el que se aproxima $\\int_a^b f(x)dx$ recibe el nombre de **cuadratura numérica** y emplea una suma del tipo: \r\n",
        "\r\n",
        "\r\n",
        "$$ \\sum_{t=0}^n a_if(x_i)$$\r\n"
      ]
    },
    {
      "cell_type": "markdown",
      "metadata": {
        "id": "-QjayTAOtWLh"
      },
      "source": [
        "<p align=\"center\">\r\n",
        "  <img src=\"https://dl.dropboxusercontent.com/s/baf7eauuwm347zk/integracion_numerica.png?dl=0\"  width=75% />\r\n",
        "</p>\r\n",
        "\r\n",
        "\r\n"
      ]
    },
    {
      "cell_type": "markdown",
      "metadata": {
        "id": "PJv2dFyVfD7K"
      },
      "source": [
        "## 1. Punto medio"
      ]
    },
    {
      "cell_type": "markdown",
      "metadata": {
        "id": "2OpjtgFHfJQw"
      },
      "source": [
        "En el método del punto medio, construimos un rectángulo para cada subintervalo donde la altura es igual a f en el punto medio del subintervalo. Ahora derivamos la fúrmula del punto medio basado en n rectángulos de igual tamaño:"
      ]
    },
    {
      "cell_type": "markdown",
      "metadata": {
        "id": "w3tsCuCffJT2"
      },
      "source": [
        "\\begin{align}\r\n",
        "\\int_a^b f(x)\\,dx &= \\int_{x_0}^{x_1} f(x)dx + \\int_{x_1}^{x_2} f(x)dx +\r\n",
        "                     \\ldots + \\int_{x_{n-1}}^{x_n} f(x)dx,     \\nonumber \\\\ \r\n",
        "                  &\\approx h f\\left(\\frac{x_0 + x_1}{2}\\right) +\r\n",
        "                   h f\\left(\\frac{x_1 + x_2}{2}\\right) + \\ldots +\r\n",
        "                   h f\\left(\\frac{x_{n-1} + x_n}{2}\\right) ,\r\n",
        " \\\\ \r\n",
        "                  &\\approx h \\left(f\\left(\\frac{x_0 + x_1}{2}\\right) +\r\n",
        "                  f\\left(\\frac{x_1 + x_2}{2}\\right) + \\ldots +\r\n",
        "                  f\\left(\\frac{x_{n-1} + x_n}{2}\\right)\\right)\\thinspace .\r\n",
        "\r\n",
        "\\end{align}"
      ]
    },
    {
      "cell_type": "markdown",
      "metadata": {
        "id": "EOOcsXwkfJWs"
      },
      "source": [
        "Esta suma puede ser escrita de manera compacta de la siguiente forma:\r\n",
        "\r\n",
        "$$\\int_a^b f(x)d(x) \\approx h\\sum_{i=0}^{n-1}f(x_i)$$"
      ]
    },
    {
      "cell_type": "markdown",
      "metadata": {
        "id": "srgqOCurfJZo"
      },
      "source": [
        "donde $x_i = \\left(a + \\frac{h}{2}\\right) + ih$"
      ]
    },
    {
      "cell_type": "code",
      "metadata": {
        "id": "QHPz6PJCgWDr"
      },
      "source": [
        "def midpoint(f, a, b, n):\r\n",
        "    h = round(b-a)/n\r\n",
        "    result = 0\r\n",
        "    for i in range(n):\r\n",
        "        result += f((a + h/2.0) + i*h)\r\n",
        "    result *= h\r\n",
        "    return result"
      ],
      "execution_count": null,
      "outputs": []
    },
    {
      "cell_type": "code",
      "metadata": {
        "colab": {
          "base_uri": "https://localhost:8080/"
        },
        "id": "UBsNp0NugWIP",
        "outputId": "2733dc8a-5f73-4232-9c5d-4828c945c3e7"
      },
      "source": [
        "def ee(x):\r\n",
        "  return np.exp(-x**2)\r\n",
        "\r\n",
        "midpoint(ee,0,2,n)"
      ],
      "execution_count": null,
      "outputs": [
        {
          "output_type": "execute_result",
          "data": {
            "text/plain": [
              "0.8842000076332692"
            ]
          },
          "metadata": {
            "tags": []
          },
          "execution_count": 8
        }
      ]
    },
    {
      "cell_type": "code",
      "metadata": {
        "colab": {
          "base_uri": "https://localhost:8080/"
        },
        "id": "keBsnxlfhKth",
        "outputId": "3e60b1f3-b595-41d7-e67e-7d9b2af819b7"
      },
      "source": [
        "print('    n        punto medio')\r\n",
        "for i in range(1, 21):\r\n",
        "    n = 2**i\r\n",
        "    m = midpoint(ee, a, b, n)\r\n",
        "    print('%7d %.16f' % (n, m))"
      ],
      "execution_count": null,
      "outputs": [
        {
          "output_type": "stream",
          "text": [
            "    n        punto medio\n",
            "      2 0.7545979437721995\n",
            "      4 0.7487471318910093\n",
            "      8 0.7473035787307479\n",
            "     16 0.7469439125163669\n",
            "     32 0.7468540726233615\n",
            "     64 0.7468316174454078\n",
            "    128 0.7468260039506870\n",
            "    256 0.7468246005957426\n",
            "    512 0.7468242497581773\n",
            "   1024 0.7468241620488596\n",
            "   2048 0.7468241401215338\n",
            "   4096 0.7468241346397010\n",
            "   8192 0.7468241332692467\n",
            "  16384 0.7468241329266309\n",
            "  32768 0.7468241328409762\n",
            "  65536 0.7468241328195626\n",
            " 131072 0.7468241328142037\n",
            " 262144 0.7468241328128770\n",
            " 524288 0.7468241328125576\n",
            "1048576 0.7468241328124761\n"
          ],
          "name": "stdout"
        }
      ]
    },
    {
      "cell_type": "markdown",
      "metadata": {
        "id": "6AeDO43Lpl-H"
      },
      "source": [
        "## 2. Cuadratura"
      ]
    },
    {
      "cell_type": "markdown",
      "metadata": {
        "id": "mW_3DscHpTzZ"
      },
      "source": [
        "Los métodos de cuadratura en esta sección se basan en los polinomios de interpolación\r\n",
        "que se fueron explicados en la sesión 3. La idea básica es seleccionar un conjunto de nodos\r\n",
        "distintos $\\{x0,... , xn\\}$ del intervalo $[a, b]$. \r\n",
        "\r\n",
        "Entonces integramos el polinomio interpolante de\r\n",
        "Lagrange\r\n",
        "\r\n",
        "$$P_n(x)=\\sum_{i=0}^n f(x_i)L_i(x)$$\r\n",
        "\r\n",
        "y sumo su término de error de truncamiento sobrea $[a,b]$ para obtener\r\n",
        "\r\n",
        "$$\\int_a^bf(x)dx=\\int_a^b \\sum_{i=0}^nf(x_i)L_i(x)dx + \\int_a^b \\prod_{i=0}^n(x-x_i)\\frac{f^{(n+1)}\\xi(x)}{(n+1)!}dx$$\r\n",
        "\r\n",
        "$$\\int_a^bf(x)dx=\\sum_{i=0}^na_if(x_i)+ \\frac{1}{(n+1)!}  \\int_a^b \\prod_{i=0}^n(x-x_i)f^{(n+1)}\\xi(x)dx$$"
      ]
    },
    {
      "cell_type": "markdown",
      "metadata": {
        "id": "mnp_2TpKZEeJ"
      },
      "source": [
        "donde $\\xi(x)$ se encuentra en $[a, b]$ para cada $x $\r\n",
        "\r\n",
        "$$a_i=\\int_a^bL_i(x)dx$$\r\n",
        "para cada $i = 0,1,\\dots,n.$\r\n",
        "\r\n",
        "La fórmula de cuadratura es, por lo tanto,\r\n",
        "\r\n",
        "$$\\int_a^b f(x)dx \\approx \\sum_{i=0}^na_if(x_i)$$\r\n",
        "\r\n",
        "con un error dado por:\r\n",
        "\r\n",
        "$$E(f)=\\frac{1}{(n+1)!}\\int_a^b\\prod_{i=0}^n(x-x_i)f^{(n+1)}(\\xi(x))dx$$"
      ]
    },
    {
      "cell_type": "markdown",
      "metadata": {
        "id": "Vxoar0EUZEj7"
      },
      "source": [
        "Consideremos las\r\n",
        "fórmulas producidas mediante el uso del primer y del segundo polinomios de Lagrange con\r\n",
        "nodos igualmente espaciados. Esto da la **regla trapezoidal** y la **regla de Simpson**, las cuales\r\n",
        "se presentan generalmente en cursos de cálculo."
      ]
    },
    {
      "cell_type": "markdown",
      "metadata": {
        "id": "WR05e81wfx2z"
      },
      "source": [
        "## 3. Regla trapezoidal\r\n",
        "\r\n",
        "Para derivar la regla trapzoidal (o regla del trapecio) para aproximar $\\int_a^bf(x)dx$. sean $x_0=a$,$x_1=b$,$h=b-a$ y utilizando el polinomio de Lagrange\r\n",
        "\r\n",
        "$$P_1(x)=\\frac{(x-x_1)}{x_0-x_1}f(x_0)+\\frac{(x-x_0)}{x_1-x_0}f(x_1)$$\r\n",
        "\r\n",
        "$$\\int_a^bf(x)dx=\\int_{x_0}^{x_1}\\left[\\frac{(x-x_1)}{(x_0-x_1)} f(x_0)+\\frac{(x-x_0)}{(x_1-x_0)} f(x_1)\\right]dx +\\frac{1}{2}\\int_{x_0}^{x_1} f''(\\xi(x))(x-x_0)(x-x_1)dx$$"
      ]
    },
    {
      "cell_type": "markdown",
      "metadata": {
        "id": "3XI_6GrFcEYS"
      },
      "source": [
        "obteniendo:\r\n",
        "\r\n",
        "$$\\int_a^bf(x)dx=\\left[\\frac{(x-x_1)^2}{2(x_0-x_1)} f(x_0)+\\frac{(x-x_0)^2}{2(x_1-x_0)} f(x_1)\\right]_{x_0}^{x_1}-\\frac{h^3}{12}f''(\\xi)$$\r\n",
        "\r\n",
        "$$=\\frac{(x_1-x_0}{2}[f(x_0)+f(x_1)]-\\frac{h^3}{12}f''(\\xi)$$."
      ]
    },
    {
      "cell_type": "markdown",
      "metadata": {
        "id": "IgTU1KkBdF04"
      },
      "source": [
        "Haciendo $h=x_1-x_0$ obtenemos la **regla trapezoidal**:\r\n",
        "\r\n",
        "$$\\int_a^bf(x)dx=\\frac{(x_1-x_0)}{2}[f(x_0)+f(x_1)]-\\frac{h^3}{12}f''(\\xi)$$\r\n",
        "\r\n",
        "Esto recibe el nombre de regla trapezoidal porque cuando $f$ es una función con valores positivos, la integral se aproxima mediante el área de un trapecio, como se muestra en el siguiente esquema\r\n",
        "\r\n",
        "<p align=\"center\">\r\n",
        "  <img src=\"\r\n",
        "https://upload.wikimedia.org/wikipedia/commons/thumb/0/05/Trapezoidal_rule_illustration_small.svg/440px-Trapezoidal_rule_illustration_small.svg.png\"  width=45% />\r\n",
        "</p>\r\n",
        "\r\n"
      ]
    },
    {
      "cell_type": "markdown",
      "metadata": {
        "id": "su1g8O_Qd3R5"
      },
      "source": [
        "El término de error para la regla trapezoidal implica $f''$, por lo que la regla da el resultado\r\n",
        "exacto cuando se aplica a cualquier función cuya segunda derivada es idénticamente cero, es\r\n",
        "decir, cualquier polinomio de grado uno o menos."
      ]
    },
    {
      "cell_type": "code",
      "metadata": {
        "id": "tpwopq7kbd-s"
      },
      "source": [
        "import numpy as np\r\n",
        "import matplotlib.pyplot as plt"
      ],
      "execution_count": null,
      "outputs": []
    },
    {
      "cell_type": "code",
      "metadata": {
        "id": "F7l0nAyyeFeX"
      },
      "source": [
        "#define a function to do integration of f(x) btw. 0 and 1:\r\n",
        "def trap(f,a,b,n):\r\n",
        "    h = 1 / float(n)\r\n",
        "    intgr = 0.5 * h * (f(a) + f(b))\r\n",
        "    for i in range(1, int(n)):\r\n",
        "        intgr = intgr + h * f(i * h) \r\n",
        "\r\n",
        "    #error_trapecio = (b-a)*(h^2)/12\r\n",
        "    return intgr"
      ],
      "execution_count": null,
      "outputs": []
    },
    {
      "cell_type": "code",
      "metadata": {
        "colab": {
          "base_uri": "https://localhost:8080/",
          "height": 282
        },
        "id": "1pFB1bBdfdri",
        "outputId": "7586177f-267e-4d8e-a75d-dfc721f337cd"
      },
      "source": [
        "a=0\r\n",
        "b=1\r\n",
        "h=1e-8\r\n",
        "N=(b-a)/h\r\n",
        "#the function to be integrated:\r\n",
        "def f(x):\r\n",
        "    return x**4 * (1 - x)**4 / (1 + x**2)\r\n",
        "\r\n",
        "x=np.linspace(a,b,int(N))\r\n",
        "plt.plot(x,f(x))"
      ],
      "execution_count": null,
      "outputs": [
        {
          "output_type": "execute_result",
          "data": {
            "text/plain": [
              "[<matplotlib.lines.Line2D at 0x7fa066dc5a10>]"
            ]
          },
          "metadata": {
            "tags": []
          },
          "execution_count": 3
        },
        {
          "output_type": "display_data",
          "data": {
            "image/png": "[encoded data removed]",
            "text/plain": [
              "<Figure size 432x288 with 1 Axes>"
            ]
          },
          "metadata": {
            "tags": [],
            "needs_background": "light"
          }
        }
      ]
    },
    {
      "cell_type": "code",
      "metadata": {
        "colab": {
          "base_uri": "https://localhost:8080/"
        },
        "id": "O9_KuE1Tgrce",
        "outputId": "36db5fcc-5073-4884-827d-93b7f269b17b"
      },
      "source": [
        "print(trap(f,a,b,100))"
      ],
      "execution_count": null,
      "outputs": [
        {
          "output_type": "stream",
          "text": [
            "0.0012644892673714441\n"
          ],
          "name": "stdout"
        }
      ]
    },
    {
      "cell_type": "code",
      "metadata": {
        "colab": {
          "base_uri": "https://localhost:8080/"
        },
        "id": "S8Hrs0POfdt8",
        "outputId": "69223687-2e0e-47d0-934b-323f5201b38b"
      },
      "source": [
        "np.trapz(f(x),dx=h) #comprobando con el trapecio de NumPy"
      ],
      "execution_count": null,
      "outputs": [
        {
          "output_type": "execute_result",
          "data": {
            "text/plain": [
              "0.0012644892547047253"
            ]
          },
          "metadata": {
            "tags": []
          },
          "execution_count": 5
        }
      ]
    },
    {
      "cell_type": "code",
      "metadata": {
        "colab": {
          "base_uri": "https://localhost:8080/"
        },
        "id": "Qn046QlFhjqQ",
        "outputId": "931f0ce8-4bf7-4fee-d836-d16c17fade8f"
      },
      "source": [
        "n_l=[]#n's_list\r\n",
        "t_l=[]#trapz_list\r\n",
        "print('    n        trapecio')\r\n",
        "for i in range(1, 21):\r\n",
        "    n = 2**i\r\n",
        "    t = trap(f, a, b, n)\r\n",
        "    t_l.append(t)\r\n",
        "    n_l.append(n)\r\n",
        "    print('%7d %.16f' % (n, t))"
      ],
      "execution_count": null,
      "outputs": [
        {
          "output_type": "stream",
          "text": [
            "    n        trapecio\n",
            "      2 0.4409770268935514\n",
            "      4 0.3989931289496741\n",
            "      8 0.3806097629734309\n",
            "     16 0.3721482637411141\n",
            "     32 0.3681149165193379\n",
            "     64 0.3661502929250893\n",
            "    128 0.3651814757074172\n",
            "    256 0.3647005262820066\n",
            "    512 0.3644609315069255\n",
            "   1024 0.3643413567818143\n",
            "   2048 0.3642816255583611\n",
            "   4096 0.3642517740651184\n",
            "   8192 0.3642368518629149\n",
            "  16384 0.3642293916505345\n",
            "  32768 0.3642256617669869\n",
            "  65536 0.3642237968809556\n",
            " 131072 0.3642228644518898\n",
            " 262144 0.3642223982408486\n",
            " 524288 0.3642221651361958\n",
            "1048576 0.3642220485841018\n"
          ],
          "name": "stdout"
        }
      ]
    },
    {
      "cell_type": "code",
      "metadata": {
        "colab": {
          "base_uri": "https://localhost:8080/",
          "height": 269
        },
        "id": "R-H3zhxQjIoD",
        "outputId": "84d54ebd-fb73-4d82-945d-8df73ac20eaa"
      },
      "source": [
        "import matplotlib.pyplot as plt\r\n",
        "import numpy as np\r\n",
        "\r\n",
        "fig, ax = plt.subplots()\r\n",
        "ax.set_xscale('symlog', basex=2)\r\n",
        "#ax.set_yscale('symlog', basey=2)\r\n",
        "\r\n",
        "#x = np.arange(-1024, 1024)\r\n",
        "ax.plot(n_l, t_l)\r\n",
        "\r\n",
        "plt.show()"
      ],
      "execution_count": null,
      "outputs": [
        {
          "output_type": "display_data",
          "data": {
            "image/png": "[encoded data removed]",
            "text/plain": [
              "<Figure size 432x288 with 1 Axes>"
            ]
          },
          "metadata": {
            "tags": [],
            "needs_background": "light"
          }
        }
      ]
    },
    {
      "cell_type": "code",
      "metadata": {
        "id": "_QbKWeaqjnJA"
      },
      "source": [
        ""
      ],
      "execution_count": null,
      "outputs": []
    },
    {
      "cell_type": "markdown",
      "metadata": {
        "id": "_iXUA1o6hi2N"
      },
      "source": [
        "## 4. Regla de Simpson"
      ]
    },
    {
      "cell_type": "markdown",
      "metadata": {
        "id": "3iVimJiIhjPL"
      },
      "source": [
        "La regla de Simpson resulta de la integración sobre $[a,b]$ del segundo polinomio de Lagrange con nodos igualmente espaciados."
      ]
    },
    {
      "cell_type": "markdown",
      "metadata": {
        "id": "cK6Xi04xiyAt"
      },
      "source": [
        "<p align=\"center\">\r\n",
        "  <img src=\"\r\n",
        "https://habrastorage.org/webt/-m/ev/xq/-mevxq8y8s8nkt8nlfwg1vpltua.png\"  width=55% />\r\n",
        "</p>"
      ]
    },
    {
      "cell_type": "markdown",
      "metadata": {
        "id": "noxVFKDLjBa9"
      },
      "source": [
        "El cual resulta en dos formas de métodos: **Regla  de Simpson 1/3** y **3/8**."
      ]
    },
    {
      "cell_type": "markdown",
      "metadata": {
        "id": "x4BgNQdGjXrw"
      },
      "source": [
        "#### **Regla de Simpson 1/3**\r\n",
        "\r\n",
        "$$\\int_{x_0}^{x_2}f(x)dx  = \\frac{h}{3}[f(x_0) +4f(x_1)+f(x_2)]-\\frac{h^5}{90}f^{(4)}(\\xi)$$"
      ]
    },
    {
      "cell_type": "markdown",
      "metadata": {
        "id": "6F8b9kIawB6L"
      },
      "source": [
        "$x_0=a$,$x_2=b$, y $x_1=a+h$, en donde $h=(b-a)/n$"
      ]
    },
    {
      "cell_type": "markdown",
      "metadata": {
        "id": "cra6nCMsjuYX"
      },
      "source": [
        "El término de error en la regla de Simpson implica la cuarta derivada de $f$, por lo que da\r\n",
        "resultados exactos cuando se aplica a cualquier polinomio de grado tres o menos"
      ]
    },
    {
      "cell_type": "markdown",
      "metadata": {
        "id": "b977JWNGxujp"
      },
      "source": [
        "$$\\int_{x_0}^{x_2}f(x)dx  = \\frac{h}{3}[f(x_0) +4\\sum_{i=1}^{n/2}f(x_0+x1)+2\\sum_{i=1}^{\\frac{n}{2}-1}f(x_0 + x1)+f(x_2)]$$"
      ]
    },
    {
      "cell_type": "code",
      "metadata": {
        "id": "sJKMgBuyokhy"
      },
      "source": [
        "def simpson1_3(f, a, b, n):\r\n",
        "    #calculamos h\r\n",
        "    h = (b - a) / n\r\n",
        "    #Inicializamos nuestra varible donde se almacenara las sumas\r\n",
        "    suma = 0.0\r\n",
        "    #hacemos un ciclo para ir sumando las areas\r\n",
        "    for i in range(1, n):\r\n",
        "        #calculamos la x\r\n",
        "        #x: valores entre [a,b] espaciados por h\r\n",
        "        x = a + i * h\r\n",
        "        # si es par se multiplica por 4\r\n",
        "        if(i % 2 == 0): # i%2 : evalúa si \"i\" es divisible entre 2 el resultado es 0 (residuo de la división)\r\n",
        "            suma = suma + 2 * f(x)\r\n",
        "            #o\r\n",
        "            #suma += 2* f(x,f)\r\n",
        "        #en caso contrario se multiplica por 2\r\n",
        "        else:\r\n",
        "            suma = suma + 4 * f(x)\r\n",
        "    #sumamos los el primer elemento y el ultimo\r\n",
        "    suma = suma + f(a) + f(b)\r\n",
        "    #Multiplicamos por h/3\r\n",
        "    area = suma * (h / 3)\r\n",
        "\r\n",
        "    #error_simpson1 = (h^5)/90\r\n",
        "    #Retornamos el resultado\r\n",
        "    return area"
      ],
      "execution_count": null,
      "outputs": []
    },
    {
      "cell_type": "code",
      "metadata": {
        "colab": {
          "base_uri": "https://localhost:8080/",
          "height": 299
        },
        "id": "1mS5OSkplado",
        "outputId": "d62217a8-c4cf-4950-c4bd-d025b7a6a0f2"
      },
      "source": [
        "# Integración: Regla Simpson 1/3\r\n",
        "import numpy as np\r\n",
        "import matplotlib.pyplot as plt\r\n",
        "\r\n",
        "# INGRESO:\r\n",
        "def f(x):\r\n",
        "  return np.sqrt(x)*np.sin(x)\r\n",
        "\r\n",
        "# intervalo de integración [a,b] con  n pasos\r\n",
        "a = 1\r\n",
        "b = 3\r\n",
        "\r\n",
        "n = 50\r\n",
        "\r\n",
        "print('Área:',simpson1_3(f,a,b,n))\r\n",
        "x=np.linspace(a,b,n)\r\n",
        "plt.plot(x,f(x))"
      ],
      "execution_count": null,
      "outputs": [
        {
          "output_type": "stream",
          "text": [
            "Área: 2.0536301324701354\n"
          ],
          "name": "stdout"
        },
        {
          "output_type": "execute_result",
          "data": {
            "text/plain": [
              "[<matplotlib.lines.Line2D at 0x7fa061863a10>]"
            ]
          },
          "metadata": {
            "tags": []
          },
          "execution_count": 18
        },
        {
          "output_type": "display_data",
          "data": {
            "image/png": "[encoded data removed]",
            "text/plain": [
              "<Figure size 432x288 with 1 Axes>"
            ]
          },
          "metadata": {
            "tags": [],
            "needs_background": "light"
          }
        }
      ]
    },
    {
      "cell_type": "code",
      "metadata": {
        "colab": {
          "base_uri": "https://localhost:8080/"
        },
        "id": "z_ZJ2plEj3bi",
        "outputId": "1ebeb05a-36ee-488c-8924-b0f113a09b95"
      },
      "source": [
        "s13_l=[]#trapz_list\r\n",
        "print('      n        trapecio')\r\n",
        "for i in range(1, 21):\r\n",
        "    n = 2**i\r\n",
        "    s13 = simpson1_3(f, a, b, n)\r\n",
        "    s13_l.append(s13)\r\n",
        "    print('%7d %.16f' % (n, s13))"
      ],
      "execution_count": null,
      "outputs": [
        {
          "output_type": "stream",
          "text": [
            "      n        trapecio\n",
            "      2 2.0765536739078203\n",
            "      4 2.0549261957703937\n",
            "      8 2.0537093830617339\n",
            "     16 2.0536350132810970\n",
            "     32 2.0536303887412357\n",
            "     64 2.0536301000609343\n",
            "    128 2.0536300820238713\n",
            "    256 2.0536300808966383\n",
            "    512 2.0536300808261894\n",
            "   1024 2.0536300808217902\n",
            "   2048 2.0536300808215113\n",
            "   4096 2.0536300808214878\n",
            "   8192 2.0536300808214918\n",
            "  16384 2.0536300808214918\n",
            "  32768 2.0536300808214745\n",
            "  65536 2.0536300808215007\n",
            " 131072 2.0536300808215189\n",
            " 262144 2.0536300808215286\n",
            " 524288 2.0536300808214101\n",
            "1048576 2.0536300808215957\n"
          ],
          "name": "stdout"
        }
      ]
    },
    {
      "cell_type": "code",
      "metadata": {
        "colab": {
          "base_uri": "https://localhost:8080/",
          "height": 269
        },
        "id": "dC0jZFLqkYDR",
        "outputId": "c8912fe8-c057-4e30-fd28-a28b083c5dbd"
      },
      "source": [
        "import matplotlib.pyplot as plt\r\n",
        "import numpy as np\r\n",
        "\r\n",
        "fig, ax = plt.subplots()\r\n",
        "ax.set_xscale('symlog', basex=2)\r\n",
        "# Create scale bar\r\n",
        "#ax.set_yscale('symlog', basey=2)\r\n",
        "\r\n",
        "#x = np.arange(-1024, 1024)\r\n",
        "ax.plot(n_l, s13_l)\r\n",
        "\r\n",
        "plt.show()"
      ],
      "execution_count": null,
      "outputs": [
        {
          "output_type": "display_data",
          "data": {
            "image/png": "[encoded data removed]",
            "text/plain": [
              "<Figure size 432x288 with 1 Axes>"
            ]
          },
          "metadata": {
            "tags": [],
            "needs_background": "light"
          }
        }
      ]
    },
    {
      "cell_type": "markdown",
      "metadata": {
        "id": "NZO9olngmlfh"
      },
      "source": [
        "#### **Regla de Simpson 3/8**"
      ]
    },
    {
      "cell_type": "markdown",
      "metadata": {
        "id": "It5E3qQrmwb1"
      },
      "source": [
        "Es el resultado cuando para el integral se utiliza el resultado de una interpolación con polinomio de tercer grado.\r\n",
        "\r\n",
        "$$\\int_a^bf(x)dx=\\frac{3h}{8}[f(x_0)+3f(x_1)+3f(x_2)+f(x_3)] - \\frac{3}{80}h^5f^{(4)}(z)$$\r\n",
        "\r\n",
        "Donde $f^{(4)}(z) = \\frac{d^4f}{dz^4}$."
      ]
    },
    {
      "cell_type": "markdown",
      "metadata": {
        "id": "Fl_fRzBSmwiD"
      },
      "source": [
        "Usando múltiples segmentos (n), se requiere un número de segmentos múltiplos de 3.\r\n",
        "\r\n",
        "En forma discreta sería:\r\n",
        "\r\n",
        "$$\\int_a^bf(x)dx \\approx \\frac{3h}{8}\\sum_{i}^{n/3}\\left[ f(x_0)+ 3f(x_1)+2f(x_1) +f(x_2) \\right]$$"
      ]
    },
    {
      "cell_type": "code",
      "metadata": {
        "id": "5_dnLvq1lagc"
      },
      "source": [
        "def simpson3_8(f, a, b, n):\r\n",
        "    #calculamos h\r\n",
        "    h = (b - a) / n\r\n",
        "    #Inicializamos nuestra varible donde se almacenara las sumas\r\n",
        "    suma = f(a)+f(b)\r\n",
        "    #hacemos un ciclo para ir sumando las areas\r\n",
        "    for i in range(1, n):\r\n",
        "        #calculamos la k\r\n",
        "        #k = a - h + (2 * h * i)\r\n",
        "        k = a + i * h\r\n",
        "\r\n",
        "        if (i % 3 == 0): # i%3 : evalúa si \"i\" es divisible entre 3 el resultado es 0 (residuo de la división)\r\n",
        "          suma += 2 * f(k)\r\n",
        "\r\n",
        "        #en caso contrario se multiplica por 3\r\n",
        "        else:\r\n",
        "          suma += 3*f(k)\r\n",
        "              \r\n",
        "    #Multiplicamos por 3h/8\r\n",
        "    area = suma * 3*(h / 8)\r\n",
        "\r\n",
        "    #error_simpson2 = (b-a)*(h^4)/180\r\n",
        "    #Retornamos el resultado\r\n",
        "    return area"
      ],
      "execution_count": null,
      "outputs": []
    },
    {
      "cell_type": "code",
      "metadata": {
        "colab": {
          "base_uri": "https://localhost:8080/",
          "height": 299
        },
        "id": "Gs45_GbHlaia",
        "outputId": "5e68f495-0ae0-4729-b558-96e78e4a27da"
      },
      "source": [
        "# Integración: Regla Simpson 3/8\r\n",
        "import numpy as np\r\n",
        "import matplotlib.pyplot as plt\r\n",
        "\r\n",
        "# INGRESO:\r\n",
        "def f2(x):\r\n",
        "  return np.exp(x)#*np.sin(x)\r\n",
        "\r\n",
        "# intervalo de integración [a,b] con  n pasos\r\n",
        "a = 1\r\n",
        "b = 3\r\n",
        "\r\n",
        "n = 60\r\n",
        "\r\n",
        "print('Área:',simpson1_3(f2,a,b,n),simpson3_8(f2,a,b,n))\r\n",
        "x=np.linspace(a,b,n)\r\n",
        "plt.plot(x,f2(x))"
      ],
      "execution_count": null,
      "outputs": [
        {
          "output_type": "stream",
          "text": [
            "Área: 17.367255213829846 17.36725536267093\n"
          ],
          "name": "stdout"
        },
        {
          "output_type": "execute_result",
          "data": {
            "text/plain": [
              "[<matplotlib.lines.Line2D at 0x7fa05481ba90>]"
            ]
          },
          "metadata": {
            "tags": []
          },
          "execution_count": 49
        },
        {
          "output_type": "display_data",
          "data": {
            "image/png": "[encoded data removed]",
            "text/plain": [
              "<Figure size 432x288 with 1 Axes>"
            ]
          },
          "metadata": {
            "tags": [],
            "needs_background": "light"
          }
        }
      ]
    },
    {
      "cell_type": "code",
      "metadata": {
        "colab": {
          "base_uri": "https://localhost:8080/"
        },
        "id": "UvyDhbuPmsxx",
        "outputId": "2d6ebbc7-abb8-473a-f002-125ef693e7e2"
      },
      "source": [
        "s38_l=[]#simpson3/8_list\r\n",
        "print('      n        trapecio')\r\n",
        "for i in range(1, 21):\r\n",
        "    n = 2**i\r\n",
        "    s38 = simpson3_8(f, a, b, n)\r\n",
        "    s38_l.append(s38)\r\n",
        "    print('%7d %.16f' % (n, s38))"
      ],
      "execution_count": null,
      "outputs": [
        {
          "output_type": "stream",
          "text": [
            "      n        trapecio\n",
            "      2 1.8538951006783593\n",
            "      4 1.9689911188603215\n",
            "      8 2.0332245095260708\n",
            "     16 2.0426907919621136\n",
            "     32 2.0509074532712077\n",
            "     64 2.0515156369169461\n",
            "    128 2.0531016644332376\n",
            "    256 2.0531399047008629\n",
            "    512 2.0535075398501217\n",
            "   1024 2.0535099333455231\n",
            "   2048 2.0536000440003659\n",
            "   4096 2.0536001936478314\n",
            "   8192 2.0536226090288219\n",
            "  16384 2.0536226183826138\n",
            "  32768 2.0536282152118002\n",
            "  65536 2.0536282157964165\n",
            " 131072 2.0536296145652333\n",
            " 262144 2.0536296146017525\n",
            " 524288 2.0536299642666105\n",
            "1048576 2.0536299642688087\n"
          ],
          "name": "stdout"
        }
      ]
    },
    {
      "cell_type": "code",
      "metadata": {
        "colab": {
          "base_uri": "https://localhost:8080/",
          "height": 269
        },
        "id": "CAiYDi_Lm5q5",
        "outputId": "ca8b3651-f9fc-40d3-cada-d2294a790b48"
      },
      "source": [
        "fig, ax = plt.subplots()\r\n",
        "ax.set_xscale('symlog', basex=2)\r\n",
        "# Create scale bar\r\n",
        "#ax.set_yscale('symlog', basey=2)\r\n",
        "\r\n",
        "#x = np.arange(-1024, 1024)\r\n",
        "ax.plot(n_l, s38_l)\r\n",
        "\r\n",
        "plt.show()"
      ],
      "execution_count": null,
      "outputs": [
        {
          "output_type": "display_data",
          "data": {
            "image/png": "[encoded data removed]",
            "text/plain": [
              "<Figure size 432x288 with 1 Axes>"
            ]
          },
          "metadata": {
            "tags": [],
            "needs_background": "light"
          }
        }
      ]
    },
    {
      "cell_type": "markdown",
      "metadata": {
        "id": "3c6Hf_F5wg8p"
      },
      "source": [
        "## Método de Romberg"
      ]
    },
    {
      "cell_type": "markdown",
      "metadata": {
        "id": "dybSGt3mwhNg"
      },
      "source": [
        "En análisis numérico, el Método de Romberg genera una matriz triangular cuyos elementos son estimaciones numéricas de la integral definida siguiente:\r\n",
        "\r\n",
        "${\\displaystyle \\int _{a}^{b}f(x)\\,dx}$ \r\n",
        "\r\n",
        "usando la extrapolación de Richardson de forma reiterada en la regla del trapecio. El método de Romberg evalúa el integrando en puntos equiespaciados del intervalo de integración estudiado. Para que este método funcione, el integrando debe ser suficientemente derivable en el intervalo, aunque se obtienen resultados bastante buenos incluso para integrandos poco derivables. "
      ]
    },
    {
      "cell_type": "markdown",
      "metadata": {
        "id": "EtIytloBxrpB"
      },
      "source": [
        "### Método\r\n",
        "$$\r\n",
        "\\int_a^bf(x) dx={\\displaystyle R(n,m)={\\frac {1}{4^{m}-1}}(4^{m}R(n,m-1)-R(n-1,m-1))}\r\n",
        "$$"
      ]
    },
    {
      "cell_type": "markdown",
      "metadata": {
        "id": "6AzbeVzMx8nJ"
      },
      "source": [
        "donde:\r\n",
        "\r\n",
        "$n \\geq 1$\r\n",
        "\r\n",
        "$m \\geq 1$\r\n",
        "\r\n",
        "$h_n=\\frac{b-a}{2^n}$\r\n",
        "\r\n"
      ]
    },
    {
      "cell_type": "code",
      "metadata": {
        "id": "yoH01ondwhV2"
      },
      "source": [
        "def print_row(lst):\r\n",
        "    print(' '.join('%11.8f' % x for x in lst))\r\n",
        "\r\n",
        "def romberg(f, a, b, eps = 1E-8):\r\n",
        "    \"\"\"Approximate the definite integral of f from a to b by Romberg's method.\r\n",
        "    eps is the desired accuracy.\"\"\"\r\n",
        "    R = [[0.5 * (b - a) * (f(a) + f(b))]]  # R[0][0]\r\n",
        "    print_row(R[0])\r\n",
        "    n = 1\r\n",
        "    while True:\r\n",
        "        h = float(b-a)/2**n\r\n",
        "        R.append((n+1)*[None])  # Add an empty row.\r\n",
        "        R[n][0] = 0.5*R[n-1][0] + h*sum(f(a+(2*k-1)*h) for k in range(1, 2**(n-1)+1)) # for proper limits\r\n",
        "        for m in range(1, n+1):\r\n",
        "            R[n][m] = R[n][m-1] + (R[n][m-1] - R[n-1][m-1]) / (4**m - 1)\r\n",
        "        print_row(R[n])\r\n",
        "        if abs(R[n][n-1] - R[n][n]) < eps:\r\n",
        "            return R[n][n]\r\n",
        "        n += 1\r\n"
      ],
      "execution_count": null,
      "outputs": []
    },
    {
      "cell_type": "code",
      "metadata": {
        "id": "n3ebeuEQwilA"
      },
      "source": [
        "def f3(t):\r\n",
        "  return 2/ np.sqrt(np.pi)*np.exp(-t*t)"
      ],
      "execution_count": null,
      "outputs": []
    },
    {
      "cell_type": "code",
      "metadata": {
        "colab": {
          "base_uri": "https://localhost:8080/"
        },
        "id": "syCvfBFRwinv",
        "outputId": "a6f422a3-43d4-4cc1-f1d5-35b62908c7b6"
      },
      "source": [
        "romberg(f3,0,1)"
      ],
      "execution_count": null,
      "outputs": [
        {
          "output_type": "stream",
          "text": [
            " 0.77174333\n",
            " 0.82526296  0.84310283\n",
            " 0.83836778  0.84273605  0.84271160\n",
            " 0.84161922  0.84270304  0.84270083  0.84270066\n",
            " 0.84243051  0.84270093  0.84270079  0.84270079  0.84270079\n"
          ],
          "name": "stdout"
        },
        {
          "output_type": "execute_result",
          "data": {
            "text/plain": [
              "0.8427007932686705"
            ]
          },
          "metadata": {
            "tags": []
          },
          "execution_count": 58
        }
      ]
    },
    {
      "cell_type": "markdown",
      "metadata": {
        "id": "MndreADryS-J"
      },
      "source": [
        "La extrapolación a orden cero ${\\displaystyle R(n,0)}$ es equivalente a la Regla del trapecio con ${\\displaystyle n+2}$ puntos. a orden uno ${\\displaystyle R(n,1)}$ es equivalente a la Regla de Simpson con ${\\displaystyle n+2}$ puntos."
      ]
    },
    {
      "cell_type": "markdown",
      "metadata": {
        "id": "D_pLlkzwNMFx"
      },
      "source": [
        "## 5. Integrando con SciPy"
      ]
    },
    {
      "cell_type": "markdown",
      "metadata": {
        "id": "Eb2v4nOMNOo4"
      },
      "source": [
        "Integra la función de $a$ a $b$ (posiblemente intervalo infinito) utilizando una técnica de la biblioteca de Fortran QUADPACK."
      ]
    },
    {
      "cell_type": "code",
      "metadata": {
        "colab": {
          "base_uri": "https://localhost:8080/",
          "height": 283
        },
        "id": "FJyFcm1LeLqk",
        "outputId": "50185a90-61f3-419d-add9-fadd836306eb"
      },
      "source": [
        "from scipy.integrate import quad\r\n",
        "\r\n",
        "def f(x):\r\n",
        "    return np.exp(np.cos(-2 * x * np.pi)) + 3.2\r\n",
        "x=np.linspace(-1,1,100)\r\n",
        "plt.plot(x,f(x))"
      ],
      "execution_count": null,
      "outputs": [
        {
          "output_type": "execute_result",
          "data": {
            "text/plain": [
              "[<matplotlib.lines.Line2D at 0x7fa0549199d0>]"
            ]
          },
          "metadata": {
            "tags": []
          },
          "execution_count": 39
        },
        {
          "output_type": "display_data",
          "data": {
            "image/png": "[encoded data removed]",
            "text/plain": [
              "<Figure size 432x288 with 1 Axes>"
            ]
          },
          "metadata": {
            "tags": [],
            "needs_background": "light"
          }
        }
      ]
    },
    {
      "cell_type": "code",
      "metadata": {
        "colab": {
          "base_uri": "https://localhost:8080/"
        },
        "id": "NpVZCRHceLyG",
        "outputId": "6ce29109-3fc6-49b5-cc51-94e099ae7cdb"
      },
      "source": [
        "# integrando de -2 a 2\r\n",
        "res, err = quad(f, -2, 2) #devuelve respuesta y error\r\n",
        "\r\n",
        "print(\"El resultado numérico es {}, con un error de {}\"\r\n",
        "    .format(res, err))"
      ],
      "execution_count": null,
      "outputs": [
        {
          "output_type": "stream",
          "text": [
            "El resultado numérico es 17.864263511008033, con un error de 1.5511700537796237e-11\n"
          ],
          "name": "stdout"
        }
      ]
    },
    {
      "cell_type": "markdown",
      "metadata": {
        "id": "WrjKduxOksIQ"
      },
      "source": [
        "## 6. Problema Físico\r\n"
      ]
    },
    {
      "cell_type": "markdown",
      "metadata": {
        "id": "l840BWYjS8Sz"
      },
      "source": [
        "#### Distribución de Fermi-Dirac\r\n",
        "La distribución de Fermi-Dirac (FD) describe la probabilidad de encontrar una partícula cuántica con spin semi-entero $(1/2,3/2,...)$ en el estado de energía E:\r\n",
        "\r\n",
        "$$f_{FD}=\\frac{1}{e^{(E-\\mu)/kT}+1}$$\r\n",
        "\r\n",
        "El $\\mu$ en la distribución de FD es llamado la **energía de Fermi**, y en este caso queremos ajustar $\\mu$, tal que la probabilidad de hallar una partícula en punto sea exactamente 1.\r\n",
        "\r\n",
        "$$\\int_{E_{min}}^{E_{max}}f_{FD}dE=1$$\r\n"
      ]
    },
    {
      "cell_type": "markdown",
      "metadata": {
        "id": "l2EZeutK9YDL"
      },
      "source": [
        "Imagine un sistema cuántico a temperatura ambiente donde, por alguna razón, la energía E está limitada a estar entre 0 y 2 eV. ¿Cuál sería el $\\mu$ en este caso?"
      ]
    },
    {
      "cell_type": "code",
      "metadata": {
        "id": "lFIgTvzYBYXi"
      },
      "source": [
        "def fd_E(E,mu=1):\r\n",
        "  kT=1/40 #eV\r\n",
        "  #E=1.5 #kelvin\r\n",
        "  #mu=1\r\n",
        "  return (1/(np.exp((E-mu)/kT)+1))"
      ],
      "execution_count": null,
      "outputs": []
    },
    {
      "cell_type": "code",
      "metadata": {
        "colab": {
          "base_uri": "https://localhost:8080/",
          "height": 300
        },
        "id": "cdRhqW4HGFvj",
        "outputId": "86928b1d-4046-4ef0-b1a7-f315f2680b0f"
      },
      "source": [
        "import matplotlib.pyplot as plt\r\n",
        "a=0\r\n",
        "b=2\r\n",
        "x=np.linspace(a,b,n)\r\n",
        "\r\n",
        "plt.plot(x,fd_E(x))\r\n",
        "plt.plot(x,fd_E(x,0.5))\r\n",
        "plt.plot(x,fd_E(x,1.5))\r\n",
        "plt.title('$f_{FD}$')"
      ],
      "execution_count": null,
      "outputs": [
        {
          "output_type": "execute_result",
          "data": {
            "text/plain": [
              "Text(0.5, 1.0, '$f_{FD}$')"
            ]
          },
          "metadata": {
            "tags": []
          },
          "execution_count": 14
        },
        {
          "output_type": "display_data",
          "data": {
            "image/png": "[encoded data removed]",
            "text/plain": [
              "<Figure size 432x288 with 1 Axes>"
            ]
          },
          "metadata": {
            "tags": [],
            "needs_background": "light"
          }
        }
      ]
    },
    {
      "cell_type": "code",
      "metadata": {
        "colab": {
          "base_uri": "https://localhost:8080/"
        },
        "id": "WsZ3p7CVAjgQ",
        "outputId": "ace2f9a1-0143-406d-d234-a83c3b914dbf"
      },
      "source": [
        "a=0\r\n",
        "b=2\r\n",
        "n=100\r\n",
        "simpson3_8(fd_E,a,b,n)"
      ],
      "execution_count": null,
      "outputs": [
        {
          "output_type": "execute_result",
          "data": {
            "text/plain": [
              "1.0000091105630406"
            ]
          },
          "metadata": {
            "tags": []
          },
          "execution_count": 17
        }
      ]
    },
    {
      "cell_type": "code",
      "metadata": {
        "colab": {
          "base_uri": "https://localhost:8080/"
        },
        "id": "eWyN9ZP4OQHy",
        "outputId": "9fecf87f-df4e-48ed-e46e-d6603be1429f"
      },
      "source": [
        "quad(fd_E,a,b) "
      ],
      "execution_count": null,
      "outputs": [
        {
          "output_type": "execute_result",
          "data": {
            "text/plain": [
              "(1.0, 1.1102230246251565e-14)"
            ]
          },
          "metadata": {
            "tags": []
          },
          "execution_count": 18
        }
      ]
    },
    {
      "cell_type": "markdown",
      "metadata": {
        "id": "cMu7g0otJWIj"
      },
      "source": [
        "La energía de Fermi es la energía del nivel más alto ocupado por un sistema cuántico a temperatura nula (0 K)."
      ]
    },
    {
      "cell_type": "markdown",
      "metadata": {
        "id": "JpEB4u0yS5rJ"
      },
      "source": [
        "#### Potencial eléctrico producido por una varilla cargada"
      ]
    },
    {
      "cell_type": "markdown",
      "metadata": {
        "id": "byT6MPPmSuX5"
      },
      "source": [
        "<p align=\"center\">\r\n",
        "  <img src=\"\r\n",
        "https://habrastorage.org/webt/ln/h0/qq/lnh0qqiz4vzrhuwqmlxaelelnty.png\"  width=55% />\r\n",
        "</p>\r\n",
        "\r\n",
        "Una varilla finita en el dominio $[a,b]$ con distribución de carga $\\lambda(x)$ (carga por unidad de longitud). ¿Cuál es el potencial a una altura $z=d$ en $x=0$?"
      ]
    },
    {
      "cell_type": "markdown",
      "metadata": {
        "id": "x3pvYWWJTZWp"
      },
      "source": [
        "$$V=\\int\\frac{kdq}{r}$$\r\n",
        "\r\n",
        "sabemos que $dq=\\lambda dx$ y $r=\\sqrt{x^2+d^2}$\r\n",
        "\r\n",
        "$$V=\\int_{a}^{b}\\frac{k\\lambda dx}{\\sqrt{x^2+d^2}}$$\r\n",
        "\r\n",
        "Cuya solución analítica es:\r\n",
        "\r\n",
        "$$V=k\\lambda ln\\left[ \\frac{b+\\sqrt{b^2+d^2}}{-a+\\sqrt{a^2+d^2}} \\right]$$"
      ]
    },
    {
      "cell_type": "code",
      "metadata": {
        "id": "NarabFC1X6ny"
      },
      "source": [
        "lambd=0.5\r\n",
        "k=1\r\n",
        "d=100\r\n",
        "def v_sol(d):\r\n",
        "  return k*lambd*np.log((b+np.sqrt(b**2+d**2))/(-a+np.sqrt(a**2+d**2)))"
      ],
      "execution_count": null,
      "outputs": []
    },
    {
      "cell_type": "code",
      "metadata": {
        "id": "i4IKPDO0U9x6"
      },
      "source": [
        "def argumento(x,lambd=0.5, k=1, d=100):\r\n",
        "  \r\n",
        "  return k*lambd/(np.sqrt(x**2+d**2))"
      ],
      "execution_count": null,
      "outputs": []
    },
    {
      "cell_type": "code",
      "metadata": {
        "colab": {
          "base_uri": "https://localhost:8080/",
          "height": 366
        },
        "id": "xQfIAKTJW6mC",
        "outputId": "3544b8ce-228c-4981-c828-0a1a429e4204"
      },
      "source": [
        "a=1e-4#-2\r\n",
        "b=50#2\r\n",
        "h=1e-2\r\n",
        "n=round((b-a)/h)\r\n",
        "distancias=np.linspace(a,b,n)\r\n",
        "plt.plot(x,v_sol(x)) #Potencial vs distancia\r\n",
        "plt.title('Potencial')\r\n",
        "plt.xlabel('d')\r\n",
        "plt.ylabel('V(d)')"
      ],
      "execution_count": null,
      "outputs": [
        {
          "output_type": "stream",
          "text": [
            "/usr/local/lib/python3.7/dist-packages/ipykernel_launcher.py:5: RuntimeWarning: divide by zero encountered in true_divide\n",
            "  \"\"\"\n"
          ],
          "name": "stderr"
        },
        {
          "output_type": "execute_result",
          "data": {
            "text/plain": [
              "Text(0, 0.5, 'V(d)')"
            ]
          },
          "metadata": {
            "tags": []
          },
          "execution_count": 117
        },
        {
          "output_type": "display_data",
          "data": {
            "image/png": "[encoded data removed]",
            "text/plain": [
              "<Figure size 432x288 with 1 Axes>"
            ]
          },
          "metadata": {
            "tags": [],
            "needs_background": "light"
          }
        }
      ]
    },
    {
      "cell_type": "code",
      "metadata": {
        "colab": {
          "base_uri": "https://localhost:8080/"
        },
        "id": "CG6wlMO6VpE5",
        "outputId": "337cccac-e204-4695-ecd2-8a4ae35d5cd9"
      },
      "source": [
        "print('El potencial provocado por una varilla de longitud |b-a| es:', simpson3_8(argumento,a,b,n),'\\n propio')"
      ],
      "execution_count": null,
      "outputs": [
        {
          "output_type": "stream",
          "text": [
            "El potencial provocado por una varilla de longitud |b-a| es: 0.24060032213625435 \n",
            " propio\n"
          ],
          "name": "stdout"
        }
      ]
    },
    {
      "cell_type": "code",
      "metadata": {
        "colab": {
          "base_uri": "https://localhost:8080/"
        },
        "id": "OkJu7q3LVpHL",
        "outputId": "e5ec431a-65a3-4ca7-d190-ebb5791af70d"
      },
      "source": [
        "print('El potencial provocado por una varilla de longitud |b-a| es:',np.trapz(argumento(x),dx=h),'\\n NumPy') #siempre darle el mismo 8 con el que se está usando en Simpson"
      ],
      "execution_count": null,
      "outputs": [
        {
          "output_type": "stream",
          "text": [
            "El potencial provocado por una varilla de longitud |b-a| es: 0.24055779119819476 \n",
            " NumPy\n"
          ],
          "name": "stdout"
        }
      ]
    },
    {
      "cell_type": "code",
      "metadata": {
        "colab": {
          "base_uri": "https://localhost:8080/"
        },
        "id": "25Gv-NBycR96",
        "outputId": "d6556fec-935b-4aa4-f0df-92888b2ebfd2"
      },
      "source": [
        "print('El potencial provocado por una varilla de longitud |b-a| es:',k*lambd*np.log((b+np.sqrt(b**2+d**2))/(-a+np.sqrt(a**2+d**2))),'\\n NumPy') \r\n"
      ],
      "execution_count": null,
      "outputs": [
        {
          "output_type": "stream",
          "text": [
            "El potencial provocado por una varilla de longitud |b-a| es: 0.24060641252980172 \n",
            " NumPy\n"
          ],
          "name": "stdout"
        }
      ]
    },
    {
      "cell_type": "markdown",
      "metadata": {
        "id": "IBaa1th2rQJr"
      },
      "source": [
        "**Integracion adapatativa o Cuadratura adaptable**\r\n",
        "\r\n",
        "Las fórmulas compuestas son muy efectivas en muchas situaciones, pero ocasionalmente sufren porque requieren el uso de nodos igualmente espaciados. Esto es inadecuado al integrar\r\n",
        "una función sobre un intervalo que contiene ambas regiones con gran variación funcional y regiones con variación funcional pequeña.\r\n",
        "\r\n",
        "Veremos que en ciertas condiciones razonables, podemos responder esta pregunta y también determinar aproximaciones que satisfacen requisitos de precisión determinados.\r\n",
        "\r\n",
        "Si el error de aproximación para una integral en un intervalo determinado está distribuido de manera equitativa, se necesita un tamaño de paso más pequeño para las grandes regiones de variación que para aquellas con menos variación.\r\n",
        "\r\n",
        "Una técnica para este tipo de problema debería predecir la cantidad de variación funcional y adaptar el tamaño de\r\n",
        "paso conforme sea necesario. Estos métodos reciben el nombre de métodos de **cuadratura adaptable**.\r\n",
        "\r\n",
        "El procedimiento listado en el algoritmo, primero aproxima la integral en el subintervalo sitúado más a la izquierda en una subdivisión. Esto requiere almacenamiento eficiente y recordar las evaluaciones funcionales que se han calculado antes para los nodos en los\r\n",
        "subintervalos situados a la mitad derecha. Luego estas operaciones contienen un procedimiento de apilamiento con un indicador para seguir los datos requeridos para calcular la aproximación\r\n",
        "en el subintervalo inmediatamente adyacente y a la derecha del subintervalo en el que se genera la aproximación. El método es más fácil de implementar por medio de lenguaje de programación recursivo.\r\n",
        "\r\n",
        "![_99828739_gettyimages-522636128.jpg](data:image/jpeg;base64,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)"
      ]
    },
    {
      "cell_type": "markdown",
      "metadata": {
        "button": false,
        "new_sheet": false,
        "run_control": {
          "read_only": false
        },
        "id": "_47UrPd3dX4_"
      },
      "source": [
        "# 7. Resumen\n",
        "\n",
        "\n",
        "La crítica a las fórmulas compuestas que utilizan\n",
        "nodos equidistantes, es que al integrar una función en\n",
        "un intervalo que contiene regiones, donde la función\n",
        "varía en gran medida, y en otras en donde la variación\n",
        "es pequeña, no es factible su aplicación. \n",
        "\n",
        "Cuando la estimación del error no es válida, se aplica la regla de Simpson a los nuevos subintervalos, teniendo en\n",
        "consideración que los errores parciales de cada\n",
        "intervalo, corresponden a la mitad del error anterior.\n",
        "\n",
        "Los algoritmos que se realiza se basa en el esquema del trapecio refinado, hace uso de la filosofía de Richardson, y ha demostrado en la\n",
        "práctica producir resultados precisos en las evaluaciones de integrales, utilizando pocas iteraciones y con errores pequeños.\n",
        "\n",
        "La producción de resultados precisos en integración\n",
        "numérica, con errores muy pequeños, trae consigo el\n",
        "aumento de evaluaciones.\n",
        "\n",
        "La utilización de la recursividad hace posible construir\n",
        "buenos algoritmos en **integración adaptativa**. Con la\n",
        "técnica del Divide y Vencerás, se ha obtenido un\n",
        "algoritmo que da resultados precisos, en el menor\n",
        "tiempo."
      ]
    },
    {
      "cell_type": "markdown",
      "metadata": {
        "id": "6ucKfX5Q-7Ga"
      },
      "source": [
        "## 8. Recursos útiles\n",
        "\n",
        "* [\"Simpson 1/3\"](https://www.freecodecamp.org/news/simpsons-rule/#:~:text=Simpson%27s%203%2F8%20rule%20states,a%20and%20xn%20%3D%20b.)\n",
        "* [\"Simpson 3/8\"](http://mathforcollege.com/nm/mws/gen/07int/mws_gen_int_txt_simpson3by8.pdf)\n",
        "* Richard L. Burden, 'Analisis Numerico', 10ma Edición\n",
        "* Eric Ayars , 'Computational Physics with Python\" (libro completo [aquí](https://belglas.files.wordpress.com/2018/03/cpwp.pdf))\n",
        "* [\"How to Think Like a Computer Scientist\"](https://nbviewer.jupyter.org/github/Yorko/mlcourse.ai/blob/master/jupyter_english/tutorials/merging_dataframes_tutorial_max_palko.ipynb) - Think Python Versión 2.0.17 by Allen Doney. (libro completo [aquí](https://www.greenteapress.com/thinkpython/thinkpython.pdf))\n",
        "* Richardson, L. F. (1911), \"The Approximate Arithmetical Solution by Finite Differences of Physical Problems Involving Differential Equations, with an Application to the Stresses in a Masonry Dam\", Philosophical Transactions of the Royal Society of London. Series A 210: pp. 307-357\n",
        "* [Método de Romber](https://es.wikipedia.org/wiki/Método_de_Romberg)\n",
        "\n",
        "## Donaciones\n",
        "<br>\n",
        "<center>\n",
        "Puedes donar una vez en el siguiente enlace (Ko-Fi):\n",
        "\n",
        "<br>\n",
        "    \n",
        "*Click en la imagen.*\n",
        "\n",
        "<a href=\"https://ko-fi.com/rcrdphysics\">\n",
        "<img src=\"https://habrastorage.org/webt/8r/ml/xf/8rmlxfpdzukegpxa62cxlfvgkqe.png\" width=20% />\n",
        "\n",
        "</center>"
      ]
    },
    {
      "cell_type": "code",
      "metadata": {
        "id": "YGbABnmXynR9"
      },
      "source": [
        ""
      ],
      "execution_count": null,
      "outputs": []
    }
  ]
}
